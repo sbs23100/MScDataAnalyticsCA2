{
 "cells": [
  {
   "cell_type": "code",
   "execution_count": 1,
   "metadata": {},
   "outputs": [],
   "source": [
    "import pandas as pd"
   ]
  },
  {
   "cell_type": "code",
   "execution_count": 2,
   "metadata": {},
   "outputs": [],
   "source": [
    "data_df = pd.read_csv('Data/MLdata_df.csv')"
   ]
  },
  {
   "cell_type": "code",
   "execution_count": 3,
   "metadata": {},
   "outputs": [
    {
     "data": {
      "text/html": [
       "<div>\n",
       "<style scoped>\n",
       "    .dataframe tbody tr th:only-of-type {\n",
       "        vertical-align: middle;\n",
       "    }\n",
       "\n",
       "    .dataframe tbody tr th {\n",
       "        vertical-align: top;\n",
       "    }\n",
       "\n",
       "    .dataframe thead th {\n",
       "        text-align: right;\n",
       "    }\n",
       "</style>\n",
       "<table border=\"1\" class=\"dataframe\">\n",
       "  <thead>\n",
       "    <tr style=\"text-align: right;\">\n",
       "      <th></th>\n",
       "      <th>geo</th>\n",
       "      <th>TIME_PERIOD</th>\n",
       "      <th>IS-EPI</th>\n",
       "      <th>IS-HWI</th>\n",
       "      <th>IS-IP</th>\n",
       "      <th>IS-WSI</th>\n",
       "      <th>country_name</th>\n",
       "      <th>Proportion</th>\n",
       "    </tr>\n",
       "  </thead>\n",
       "  <tbody>\n",
       "    <tr>\n",
       "      <th>0</th>\n",
       "      <td>AT</td>\n",
       "      <td>2010-01-01</td>\n",
       "      <td>396.2</td>\n",
       "      <td>397.8</td>\n",
       "      <td>391.9</td>\n",
       "      <td>353.6</td>\n",
       "      <td>Austria</td>\n",
       "      <td>0.026874</td>\n",
       "    </tr>\n",
       "    <tr>\n",
       "      <th>1</th>\n",
       "      <td>BE</td>\n",
       "      <td>2010-01-01</td>\n",
       "      <td>399.1</td>\n",
       "      <td>361.6</td>\n",
       "      <td>406.5</td>\n",
       "      <td>360.3</td>\n",
       "      <td>Belgium</td>\n",
       "      <td>0.027875</td>\n",
       "    </tr>\n",
       "    <tr>\n",
       "      <th>2</th>\n",
       "      <td>BG</td>\n",
       "      <td>2010-01-01</td>\n",
       "      <td>497.4</td>\n",
       "      <td>454.6</td>\n",
       "      <td>403.8</td>\n",
       "      <td>369.0</td>\n",
       "      <td>Bulgaria</td>\n",
       "      <td>0.027690</td>\n",
       "    </tr>\n",
       "    <tr>\n",
       "      <th>3</th>\n",
       "      <td>CY</td>\n",
       "      <td>2010-01-01</td>\n",
       "      <td>700.9</td>\n",
       "      <td>780.6</td>\n",
       "      <td>853.8</td>\n",
       "      <td>764.7</td>\n",
       "      <td>Cyprus</td>\n",
       "      <td>0.058547</td>\n",
       "    </tr>\n",
       "    <tr>\n",
       "      <th>4</th>\n",
       "      <td>CZ</td>\n",
       "      <td>2010-01-01</td>\n",
       "      <td>433.0</td>\n",
       "      <td>438.5</td>\n",
       "      <td>432.1</td>\n",
       "      <td>455.2</td>\n",
       "      <td>Czechia</td>\n",
       "      <td>0.029630</td>\n",
       "    </tr>\n",
       "  </tbody>\n",
       "</table>\n",
       "</div>"
      ],
      "text/plain": [
       "  geo TIME_PERIOD  IS-EPI  IS-HWI  IS-IP  IS-WSI country_name  Proportion\n",
       "0  AT  2010-01-01   396.2   397.8  391.9   353.6      Austria    0.026874\n",
       "1  BE  2010-01-01   399.1   361.6  406.5   360.3      Belgium    0.027875\n",
       "2  BG  2010-01-01   497.4   454.6  403.8   369.0     Bulgaria    0.027690\n",
       "3  CY  2010-01-01   700.9   780.6  853.8   764.7       Cyprus    0.058547\n",
       "4  CZ  2010-01-01   433.0   438.5  432.1   455.2      Czechia    0.029630"
      ]
     },
     "execution_count": 3,
     "metadata": {},
     "output_type": "execute_result"
    }
   ],
   "source": [
    "data_df.head()"
   ]
  },
  {
   "cell_type": "code",
   "execution_count": 4,
   "metadata": {},
   "outputs": [
    {
     "data": {
      "text/html": [
       "<div>\n",
       "<style scoped>\n",
       "    .dataframe tbody tr th:only-of-type {\n",
       "        vertical-align: middle;\n",
       "    }\n",
       "\n",
       "    .dataframe tbody tr th {\n",
       "        vertical-align: top;\n",
       "    }\n",
       "\n",
       "    .dataframe thead th {\n",
       "        text-align: right;\n",
       "    }\n",
       "</style>\n",
       "<table border=\"1\" class=\"dataframe\">\n",
       "  <thead>\n",
       "    <tr style=\"text-align: right;\">\n",
       "      <th></th>\n",
       "      <th>geo</th>\n",
       "      <th>TIME_PERIOD</th>\n",
       "      <th>IS-EPI</th>\n",
       "      <th>IS-HWI</th>\n",
       "      <th>IS-IP</th>\n",
       "      <th>IS-WSI</th>\n",
       "      <th>country_name</th>\n",
       "      <th>Proportion</th>\n",
       "      <th>numeric_geo</th>\n",
       "    </tr>\n",
       "  </thead>\n",
       "  <tbody>\n",
       "    <tr>\n",
       "      <th>0</th>\n",
       "      <td>AT</td>\n",
       "      <td>2010-01-01</td>\n",
       "      <td>396.2</td>\n",
       "      <td>397.8</td>\n",
       "      <td>391.9</td>\n",
       "      <td>353.6</td>\n",
       "      <td>Austria</td>\n",
       "      <td>0.026874</td>\n",
       "      <td>0</td>\n",
       "    </tr>\n",
       "    <tr>\n",
       "      <th>1</th>\n",
       "      <td>BE</td>\n",
       "      <td>2010-01-01</td>\n",
       "      <td>399.1</td>\n",
       "      <td>361.6</td>\n",
       "      <td>406.5</td>\n",
       "      <td>360.3</td>\n",
       "      <td>Belgium</td>\n",
       "      <td>0.027875</td>\n",
       "      <td>1</td>\n",
       "    </tr>\n",
       "    <tr>\n",
       "      <th>2</th>\n",
       "      <td>BG</td>\n",
       "      <td>2010-01-01</td>\n",
       "      <td>497.4</td>\n",
       "      <td>454.6</td>\n",
       "      <td>403.8</td>\n",
       "      <td>369.0</td>\n",
       "      <td>Bulgaria</td>\n",
       "      <td>0.027690</td>\n",
       "      <td>2</td>\n",
       "    </tr>\n",
       "    <tr>\n",
       "      <th>3</th>\n",
       "      <td>CY</td>\n",
       "      <td>2010-01-01</td>\n",
       "      <td>700.9</td>\n",
       "      <td>780.6</td>\n",
       "      <td>853.8</td>\n",
       "      <td>764.7</td>\n",
       "      <td>Cyprus</td>\n",
       "      <td>0.058547</td>\n",
       "      <td>3</td>\n",
       "    </tr>\n",
       "    <tr>\n",
       "      <th>4</th>\n",
       "      <td>CZ</td>\n",
       "      <td>2010-01-01</td>\n",
       "      <td>433.0</td>\n",
       "      <td>438.5</td>\n",
       "      <td>432.1</td>\n",
       "      <td>455.2</td>\n",
       "      <td>Czechia</td>\n",
       "      <td>0.029630</td>\n",
       "      <td>4</td>\n",
       "    </tr>\n",
       "  </tbody>\n",
       "</table>\n",
       "</div>"
      ],
      "text/plain": [
       "  geo TIME_PERIOD  IS-EPI  IS-HWI  IS-IP  IS-WSI country_name  Proportion  \\\n",
       "0  AT  2010-01-01   396.2   397.8  391.9   353.6      Austria    0.026874   \n",
       "1  BE  2010-01-01   399.1   361.6  406.5   360.3      Belgium    0.027875   \n",
       "2  BG  2010-01-01   497.4   454.6  403.8   369.0     Bulgaria    0.027690   \n",
       "3  CY  2010-01-01   700.9   780.6  853.8   764.7       Cyprus    0.058547   \n",
       "4  CZ  2010-01-01   433.0   438.5  432.1   455.2      Czechia    0.029630   \n",
       "\n",
       "   numeric_geo  \n",
       "0            0  \n",
       "1            1  \n",
       "2            2  \n",
       "3            3  \n",
       "4            4  "
      ]
     },
     "execution_count": 4,
     "metadata": {},
     "output_type": "execute_result"
    }
   ],
   "source": [
    "# Map 'geo' column to numeric values and add as new column\n",
    "country_numbers = pd.factorize(data_df['geo'])\n",
    "\n",
    "\n",
    "data_df['numeric_geo'] = country_numbers[0]\n",
    "data_df.head()\n"
   ]
  },
  {
   "cell_type": "code",
   "execution_count": 5,
   "metadata": {},
   "outputs": [],
   "source": [
    "from dotenv import load_dotenv\n",
    "from os import getenv\n",
    "import requests"
   ]
  },
  {
   "cell_type": "code",
   "execution_count": 6,
   "metadata": {},
   "outputs": [],
   "source": [
    "load_dotenv()\n",
    "\n",
    "APP_NAME = getenv('APP_NAME')\n",
    "APP_ID = getenv('APP_ID')\n",
    "APP_SECRET = getenv('APP_SECRET')\n",
    "USERNAME = getenv('REDDIT_USERNAME')\n",
    "PASSWORD = getenv('PASSWORD')\n",
    "TEST = getenv('TEST')"
   ]
  },
  {
   "cell_type": "code",
   "execution_count": 7,
   "metadata": {},
   "outputs": [
    {
     "name": "stdout",
     "output_type": "stream",
     "text": [
      "yes\n"
     ]
    }
   ],
   "source": [
    "if APP_NAME and APP_ID and APP_SECRET and USERNAME and PASSWORD:\n",
    "    print(\"yes\")\n",
    "else:\n",
    "    print(\"ERROR\")"
   ]
  },
  {
   "cell_type": "code",
   "execution_count": 8,
   "metadata": {},
   "outputs": [
    {
     "name": "stdout",
     "output_type": "stream",
     "text": [
      "200\n"
     ]
    }
   ],
   "source": [
    "auth = requests.auth.HTTPBasicAuth(APP_ID, APP_SECRET)\n",
    "\n",
    "data = {\n",
    "    'grant_type': 'password',\n",
    "    'username': USERNAME,\n",
    "    'password': PASSWORD\n",
    "}\n",
    "\n",
    "headers = {'User-Agent': f'windows:{APP_NAME}:v1.0 (by /u/{USERNAME})'}\n",
    "\n",
    "res = requests.post(\n",
    "    'https://www.reddit.com/api/v1/access_token', # OAuth2\n",
    "    auth=auth,\n",
    "    data=data,\n",
    "    headers=headers\n",
    ")\n",
    "\n",
    "print(res.status_code)"
   ]
  },
  {
   "cell_type": "code",
   "execution_count": 9,
   "metadata": {},
   "outputs": [],
   "source": [
    "TOKEN = res.json()['access_token']\n",
    "headers = {**headers, **{'Authorization': f'bearer {TOKEN}'}}"
   ]
  },
  {
   "cell_type": "code",
   "execution_count": 10,
   "metadata": {},
   "outputs": [
    {
     "name": "stdout",
     "output_type": "stream",
     "text": [
      "200\n"
     ]
    }
   ],
   "source": [
    "res = requests.get('https://oauth.reddit.com/api/v1/me', headers=headers)\n",
    "print(res.status_code)"
   ]
  },
  {
   "cell_type": "code",
   "execution_count": 11,
   "metadata": {},
   "outputs": [
    {
     "data": {
      "text/plain": [
       "<Response [200]>"
      ]
     },
     "execution_count": 11,
     "metadata": {},
     "output_type": "execute_result"
    }
   ],
   "source": [
    "res"
   ]
  },
  {
   "cell_type": "code",
   "execution_count": 12,
   "metadata": {},
   "outputs": [],
   "source": [
    "def reddit(endpoint):\n",
    "    return requests.get(f'https://oauth.reddit.com/{endpoint}', headers=headers)"
   ]
  }
 ],
 "metadata": {
  "kernelspec": {
   "display_name": "Python 3 (ipykernel)",
   "language": "python",
   "name": "python3"
  },
  "language_info": {
   "codemirror_mode": {
    "name": "ipython",
    "version": 3
   },
   "file_extension": ".py",
   "mimetype": "text/x-python",
   "name": "python",
   "nbconvert_exporter": "python",
   "pygments_lexer": "ipython3",
   "version": "3.9.13"
  },
  "orig_nbformat": 4
 },
 "nbformat": 4,
 "nbformat_minor": 2
}
