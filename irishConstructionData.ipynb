{
 "cells": [
  {
   "cell_type": "code",
   "execution_count": 110,
   "metadata": {},
   "outputs": [],
   "source": [
    "#!pip install tradingeconomics\n",
    "#!pip install config"
   ]
  },
  {
   "cell_type": "code",
   "execution_count": 111,
   "metadata": {},
   "outputs": [
    {
     "data": {
      "text/plain": [
       "['config.ini']"
      ]
     },
     "execution_count": 111,
     "metadata": {},
     "output_type": "execute_result"
    }
   ],
   "source": [
    "import configparser\n",
    "\n",
    "# Create a ConfigParser object\n",
    "config = configparser.ConfigParser()\n",
    "\n",
    "# Read the config file\n",
    "config.read('config.ini')\n"
   ]
  },
  {
   "cell_type": "code",
   "execution_count": 112,
   "metadata": {},
   "outputs": [
    {
     "name": "stdout",
     "output_type": "stream",
     "text": [
      "            Statistic Label  Year  \\\n",
      "0  Construction Enterprises  2019   \n",
      "1  Construction Enterprises  2019   \n",
      "2  Construction Enterprises  2019   \n",
      "3  Construction Enterprises  2019   \n",
      "4  Construction Enterprises  2019   \n",
      "\n",
      "                                 Nace Rev 2 Activity    UNIT    VALUE  \n",
      "0             Development of building projects (411)  Number   3846.0  \n",
      "1  Construction of residential and non-residentia...  Number  12227.0  \n",
      "2           Construction of roads and railways (421)  Number    777.0  \n",
      "3             Construction of utility projects (422)  Number    304.0  \n",
      "4  Construction of other civil engineering projec...  Number    540.0  \n",
      "<class 'pandas.core.frame.DataFrame'>\n",
      "RangeIndex: 880 entries, 0 to 879\n",
      "Data columns (total 5 columns):\n",
      " #   Column               Non-Null Count  Dtype  \n",
      "---  ------               --------------  -----  \n",
      " 0   Statistic Label      880 non-null    object \n",
      " 1   Year                 880 non-null    int64  \n",
      " 2   Nace Rev 2 Activity  880 non-null    object \n",
      " 3   UNIT                 880 non-null    object \n",
      " 4   VALUE                260 non-null    float64\n",
      "dtypes: float64(1), int64(1), object(3)\n",
      "memory usage: 34.5+ KB\n",
      "None\n",
      "                      Statistic Label  Year  \\\n",
      "875  Gross value added at factor cost  2020   \n",
      "876  Gross value added at factor cost  2020   \n",
      "877  Gross value added at factor cost  2020   \n",
      "878  Gross value added at factor cost  2020   \n",
      "879  Gross value added at factor cost  2020   \n",
      "\n",
      "                                   Nace Rev 2 Activity           UNIT  \\\n",
      "875              Demolition and site preparation (431)  Euro Thousand   \n",
      "876  Electrical, plumbing and other construction in...  Euro Thousand   \n",
      "877            Building completion and finishing (433)  Euro Thousand   \n",
      "878    Other specialised construction activities (439)  Euro Thousand   \n",
      "879                            Construction (41 to 43)  Euro Thousand   \n",
      "\n",
      "         VALUE  \n",
      "875   257722.0  \n",
      "876  2045708.0  \n",
      "877   945228.0  \n",
      "878   953986.0  \n",
      "879  8030305.0  \n"
     ]
    }
   ],
   "source": [
    "#import API data from CSO with :\n",
    "#reference: https://data.cso.ie/\n",
    "# data also available in Data/BAA14.20230507T230558.csv\n",
    "# BAA14\n",
    "import requests\n",
    "import pandas as pd\n",
    "import io\n",
    "\n",
    "url = \"https://ws.cso.ie/public/api.jsonrpc?data=%7B%22jsonrpc%22:%222.0%22,%22method%22:%22PxStat.Data.Cube_API.ReadDataset%22,%22params%22:%7B%22class%22:%22query%22,%22id%22:%5B%5D,%22dimension%22:%7B%7D,%22extension%22:%7B%22pivot%22:null,%22codes%22:false,%22language%22:%7B%22code%22:%22en%22%7D,%22format%22:%7B%22type%22:%22CSV%22,%22version%22:%221.0%22%7D,%22matrix%22:%22BAA14%22%7D,%22version%22:%222.0%22%7D%7D\"\n",
    "\n",
    "response = requests.get(url)\n",
    "data = response.json().get('result')\n",
    "#ead the data into a dataframe where data in csv format\n",
    "# Convert the CSV string to a Pandas DataFrame\n",
    "df = pd.read_csv(io.StringIO(data))\n",
    "\n",
    "print(df.head(5))   \n",
    "print(df.info())\n",
    "print(df.tail(5))\n",
    "\n",
    "\n",
    "\n",
    "\n",
    "\n"
   ]
  },
  {
   "cell_type": "code",
   "execution_count": 113,
   "metadata": {},
   "outputs": [
    {
     "name": "stdout",
     "output_type": "stream",
     "text": [
      "['Construction Enterprises' 'Employees - Manual' 'Employees - Other'\n",
      " 'Employees - Total'\n",
      " 'Persons Engaged - Proprietors and Unpaid Family Workers'\n",
      " 'Persons Engaged - Labour only subcontract basis'\n",
      " 'Persons Engaged - Total' 'Wages and Salaries - Manual Employees'\n",
      " 'Wages and Salaries - Other Employees'\n",
      " 'Wages and Salaries - Manual and Other Employees'\n",
      " 'Wages and Salaries - Labour only subcontractors'\n",
      " 'Wages and Salaries - Total' 'Labour Costs - Other'\n",
      " 'Labour Costs - Total' 'Turnover - Principal' 'Turnover - Subcontractor'\n",
      " 'Turnover - Manufacturing' 'Turnover - Factored goods' 'Turnover - Other'\n",
      " 'Turnover - Total' 'Payments to other subcontractors'\n",
      " 'Turnover less payments to subcontractors' 'Assets made for own use'\n",
      " 'Purchases - Materials and energy' 'Purchases - Industrial services'\n",
      " 'Purchases - Factored goods' 'Purchases - Other goods/services'\n",
      " 'Purchases - Total' 'Stocks at end of year - Work in progress'\n",
      " 'Stocks at end of year - Unsold finished work'\n",
      " 'Stocks at end of year - Materials and energy'\n",
      " 'Stocks at end of year - Factored goods' 'Stocks at end of year - Total'\n",
      " 'Stock changes - Work in progress' 'Stock changes - Unsold finished work'\n",
      " 'Stock changes - Materials and energy' 'Stock changes - Factored goods'\n",
      " 'Stock changes - Total' 'Capital assets - Acquisitions'\n",
      " 'Capital assets - Sales' 'Production value' 'Intermediate consumption'\n",
      " 'Gross value added at basic prices' 'Gross value added at factor cost']\n"
     ]
    }
   ],
   "source": [
    "#print unique values in each column\n",
    "print(df['Statistic Label'].unique())"
   ]
  },
  {
   "cell_type": "code",
   "execution_count": 114,
   "metadata": {},
   "outputs": [
    {
     "name": "stdout",
     "output_type": "stream",
     "text": [
      "['Development of building projects (411)'\n",
      " 'Construction of residential and non-residential buildings (412)'\n",
      " 'Construction of roads and railways (421)'\n",
      " 'Construction of utility projects (422)'\n",
      " 'Construction of other civil engineering projects (429)'\n",
      " 'Demolition and site preparation (431)'\n",
      " 'Electrical, plumbing and other construction installation activities (432)'\n",
      " 'Building completion and finishing (433)'\n",
      " 'Other specialised construction activities (439)'\n",
      " 'Construction (41 to 43)']\n"
     ]
    }
   ],
   "source": [
    "print(df['Nace Rev 2 Activity'].unique())"
   ]
  },
  {
   "cell_type": "code",
   "execution_count": 115,
   "metadata": {},
   "outputs": [],
   "source": [
    "#drop all rows where 'Nace Rev 2 Activity' not equal to 'Building completion and finishing (433)'\n",
    "df = df[df['Nace Rev 2 Activity'] == 'Building completion and finishing (433)']"
   ]
  },
  {
   "cell_type": "code",
   "execution_count": 116,
   "metadata": {},
   "outputs": [],
   "source": [
    "#drop column 'Construction of residential and non-residential buildings (412)'\n",
    "df = df.drop(columns=['Nace Rev 2 Activity'])\n"
   ]
  },
  {
   "cell_type": "code",
   "execution_count": 117,
   "metadata": {},
   "outputs": [
    {
     "name": "stdout",
     "output_type": "stream",
     "text": [
      "['Statistic Label', 'Year', 'UNIT', 'VALUE']\n"
     ]
    }
   ],
   "source": [
    "print(df.columns.to_list())"
   ]
  },
  {
   "cell_type": "code",
   "execution_count": 118,
   "metadata": {},
   "outputs": [
    {
     "name": "stdout",
     "output_type": "stream",
     "text": [
      "Statistic Label     0\n",
      "Year                0\n",
      "UNIT                0\n",
      "VALUE              62\n",
      "dtype: int64\n"
     ]
    }
   ],
   "source": [
    "#check for null values\n",
    "print(df.isnull().sum())"
   ]
  },
  {
   "cell_type": "code",
   "execution_count": 119,
   "metadata": {},
   "outputs": [],
   "source": [
    "#drop rowns with null values\n",
    "df = df.dropna()"
   ]
  },
  {
   "cell_type": "code",
   "execution_count": 120,
   "metadata": {},
   "outputs": [],
   "source": [
    "df.to_csv('Data/BAA14.csv', index=False)"
   ]
  },
  {
   "cell_type": "code",
   "execution_count": 121,
   "metadata": {},
   "outputs": [
    {
     "name": "stdout",
     "output_type": "stream",
     "text": [
      "[20096.0, 18308.0, 35597.0, 495965.0, 47975.0, 543939.0, 3078074.0, 10364.0, 2787627.0, 3039214.0, 1926951.0, 1112264.0, 1107713.0]\n"
     ]
    }
   ],
   "source": [
    "#print list of VALUE where Year = 2019\n",
    "print(df.loc[df['Year'] == 2019, 'VALUE'].to_list())\n"
   ]
  },
  {
   "cell_type": "code",
   "execution_count": 122,
   "metadata": {},
   "outputs": [
    {
     "name": "stdout",
     "output_type": "stream",
     "text": [
      "              Statistic Label  Year    UNIT     VALUE\n",
      "7    Construction Enterprises  2019  Number  0.004686\n",
      "17   Construction Enterprises  2020  Number  0.005014\n",
      "67          Employees - Total  2019  Number  0.004104\n",
      "77          Employees - Total  2020  Number  0.003709\n",
      "127   Persons Engaged - Total  2019  Number  0.009732\n"
     ]
    }
   ],
   "source": [
    "#normalize data in VALUE column\n",
    "from sklearn.preprocessing import MinMaxScaler\n",
    "scaler = MinMaxScaler()\n",
    "df['VALUE'] = scaler.fit_transform(df[['VALUE']])\n",
    "print(df.head(5))"
   ]
  },
  {
   "cell_type": "code",
   "execution_count": 123,
   "metadata": {},
   "outputs": [
    {
     "name": "stdout",
     "output_type": "stream",
     "text": [
      "[0.004686275377753244, 0.004104315357234921, 0.009731556293891112, 0.15957259137553476, 0.01376036006009681, 0.17518721666879314, 1.0, 0.0015186943264756656, 0.9054650212083417, 0.9873518085026052, 0.6253313396537403, 0.3601662036157033, 0.3586849396037464]\n",
      "[0.005013709259543754, 0.003708855947318948, 0.009612430249422597, 0.13617864480128733, 0.010527357328660294, 0.14828621236463244, 0.8848825794759495, 0.0, 0.7792096410074808, 0.8758794496506938, 0.5642232591323457, 0.30980159980419064, 0.305799159998646]\n",
      "['Construction Enterprises', 'Employees - Total', 'Persons Engaged - Total', 'Wages and Salaries - Total', 'Labour Costs - Other', 'Labour Costs - Total', 'Turnover - Total', 'Purchases - Factored goods', 'Purchases - Total', 'Production value', 'Intermediate consumption', 'Gross value added at basic prices', 'Gross value added at factor cost']\n"
     ]
    },
    {
     "data": {
      "image/png": "[encoded data removed]",
      "text/plain": [
       "<Figure size 640x480 with 1 Axes>"
      ]
     },
     "metadata": {},
     "output_type": "display_data"
    }
   ],
   "source": [
    "#plot a bar plot for each 'Statistic Label' 'VALUE' comparing 2019 and 2020\n",
    "#reference: https://stackoverflow.com/questions/33458566/how-to-plot-a-bar-chart-using-matplotlib-using-a-dictionary\n",
    "# list of values for each label for 2019 where UNIT = Number\n",
    "\n",
    "nineteen = df.loc[df['Year'] == 2019, 'VALUE'].to_list()\n",
    "twenty = df.loc[df['Year'] == 2020, 'VALUE'].to_list()\n",
    "index_ = df.loc[df['Year'] == 2019, 'Statistic Label'].to_list()\n",
    "# list of values for each label for 2020\n",
    "print(nineteen)\n",
    "print(twenty)\n",
    "print(index_)\n",
    "import matplotlib.pyplot as plt\n",
    "import numpy as np\n",
    "df = pd.DataFrame({'2019': nineteen, '2020': twenty}, index=index_)\n",
    "ax = df.plot.bar(rot=0)\n",
    "plt.show()"
   ]
  },
  {
   "cell_type": "code",
   "execution_count": 124,
   "metadata": {},
   "outputs": [
    {
     "name": "stdout",
     "output_type": "stream",
     "text": [
      "            Statistic Label  Year Persons Engaged    UNIT    VALUE\n",
      "0  Construction Enterprises  2019           0 - 9  Number  56935.0\n",
      "1  Construction Enterprises  2019         10 - 49  Number   2007.0\n",
      "2  Construction Enterprises  2019        50 - 249  Number    208.0\n",
      "3  Construction Enterprises  2019    250 and over  Number     25.0\n",
      "4  Construction Enterprises  2020           0 - 9  Number  60553.0\n",
      "<class 'pandas.core.frame.DataFrame'>\n",
      "RangeIndex: 352 entries, 0 to 351\n",
      "Data columns (total 5 columns):\n",
      " #   Column           Non-Null Count  Dtype  \n",
      "---  ------           --------------  -----  \n",
      " 0   Statistic Label  352 non-null    object \n",
      " 1   Year             352 non-null    int64  \n",
      " 2   Persons Engaged  352 non-null    object \n",
      " 3   UNIT             352 non-null    object \n",
      " 4   VALUE            104 non-null    float64\n",
      "dtypes: float64(1), int64(1), object(3)\n",
      "memory usage: 13.9+ KB\n",
      "None\n",
      "                      Statistic Label  Year Persons Engaged           UNIT  \\\n",
      "347  Gross value added at factor cost  2019    250 and over  Euro Thousand   \n",
      "348  Gross value added at factor cost  2020           0 - 9  Euro Thousand   \n",
      "349  Gross value added at factor cost  2020         10 - 49  Euro Thousand   \n",
      "350  Gross value added at factor cost  2020        50 - 249  Euro Thousand   \n",
      "351  Gross value added at factor cost  2020    250 and over  Euro Thousand   \n",
      "\n",
      "         VALUE  \n",
      "347  1458700.0  \n",
      "348  3842481.0  \n",
      "349  1906387.0  \n",
      "350   996725.0  \n",
      "351  1284711.0  \n"
     ]
    }
   ],
   "source": [
    "#BAA15 - Persons Engaged \n",
    "\n",
    "\n",
    "url = \"https://ws.cso.ie/public/api.jsonrpc?data=%7B%22jsonrpc%22:%222.0%22,%22method%22:%22PxStat.Data.Cube_API.ReadDataset%22,%22params%22:%7B%22class%22:%22query%22,%22id%22:%5B%5D,%22dimension%22:%7B%7D,%22extension%22:%7B%22pivot%22:null,%22codes%22:false,%22language%22:%7B%22code%22:%22en%22%7D,%22format%22:%7B%22type%22:%22CSV%22,%22version%22:%221.0%22%7D,%22matrix%22:%22BAA15%22%7D,%22version%22:%222.0%22%7D%7D\"\n",
    "\n",
    "response = requests.get(url)\n",
    "\n",
    "data = response.json().get('result')\n",
    "\n",
    "#ead the data into a dataframe where data in csv format\n",
    "# Convert the CSV string to a Pandas DataFrame\n",
    "personsEngaged_df = pd.read_csv(io.StringIO(data))\n",
    "print(personsEngaged_df.head(5))\n",
    "print(personsEngaged_df.info()) \n",
    "\n",
    "print(personsEngaged_df.tail(5))\n"
   ]
  }
 ],
 "metadata": {
  "kernelspec": {
   "display_name": "Python 3 (ipykernel)",
   "language": "python",
   "name": "python3"
  },
  "language_info": {
   "codemirror_mode": {
    "name": "ipython",
    "version": 3
   },
   "file_extension": ".py",
   "mimetype": "text/x-python",
   "name": "python",
   "nbconvert_exporter": "python",
   "pygments_lexer": "ipython3",
   "version": "3.9.13"
  },
  "orig_nbformat": 4
 },
 "nbformat": 4,
 "nbformat_minor": 2
}
