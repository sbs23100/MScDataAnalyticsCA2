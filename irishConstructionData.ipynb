{
 "cells": [
  {
   "cell_type": "code",
   "execution_count": 1,
   "metadata": {},
   "outputs": [],
   "source": [
    "#!pip install tradingeconomics\n",
    "#!pip install config"
   ]
  },
  {
   "cell_type": "code",
   "execution_count": 2,
   "metadata": {},
   "outputs": [
    {
     "data": {
      "text/plain": [
       "['config.ini']"
      ]
     },
     "execution_count": 2,
     "metadata": {},
     "output_type": "execute_result"
    }
   ],
   "source": [
    "import configparser\n",
    "\n",
    "# Create a ConfigParser object\n",
    "config = configparser.ConfigParser()\n",
    "\n",
    "# Read the config file\n",
    "config.read('config.ini')\n"
   ]
  },
  {
   "cell_type": "code",
   "execution_count": 92,
   "metadata": {},
   "outputs": [
    {
     "name": "stdout",
     "output_type": "stream",
     "text": [
      "            Statistic Label  Year  \\\n",
      "0  Construction Enterprises  2019   \n",
      "1  Construction Enterprises  2019   \n",
      "2  Construction Enterprises  2019   \n",
      "3  Construction Enterprises  2019   \n",
      "4  Construction Enterprises  2019   \n",
      "\n",
      "                                 Nace Rev 2 Activity    UNIT    VALUE  \n",
      "0             Development of building projects (411)  Number   3846.0  \n",
      "1  Construction of residential and non-residentia...  Number  12227.0  \n",
      "2           Construction of roads and railways (421)  Number    777.0  \n",
      "3             Construction of utility projects (422)  Number    304.0  \n",
      "4  Construction of other civil engineering projec...  Number    540.0  \n",
      "<class 'pandas.core.frame.DataFrame'>\n",
      "RangeIndex: 880 entries, 0 to 879\n",
      "Data columns (total 5 columns):\n",
      " #   Column               Non-Null Count  Dtype  \n",
      "---  ------               --------------  -----  \n",
      " 0   Statistic Label      880 non-null    object \n",
      " 1   Year                 880 non-null    int64  \n",
      " 2   Nace Rev 2 Activity  880 non-null    object \n",
      " 3   UNIT                 880 non-null    object \n",
      " 4   VALUE                260 non-null    float64\n",
      "dtypes: float64(1), int64(1), object(3)\n",
      "memory usage: 34.5+ KB\n",
      "None\n",
      "{}\n"
     ]
    }
   ],
   "source": [
    "#import API data from CSO with :\n",
    "#reference: https://data.cso.ie/\n",
    "# data also available in Data/BAA14.20230507T230558.csv\n",
    "# BAA14\n",
    "import requests\n",
    "import pandas as pd\n",
    "import io\n",
    "\n",
    "url = \"https://ws.cso.ie/public/api.jsonrpc?data=%7B%22jsonrpc%22:%222.0%22,%22method%22:%22PxStat.Data.Cube_API.ReadDataset%22,%22params%22:%7B%22class%22:%22query%22,%22id%22:%5B%5D,%22dimension%22:%7B%7D,%22extension%22:%7B%22pivot%22:null,%22codes%22:false,%22language%22:%7B%22code%22:%22en%22%7D,%22format%22:%7B%22type%22:%22CSV%22,%22version%22:%221.0%22%7D,%22matrix%22:%22BAA14%22%7D,%22version%22:%222.0%22%7D%7D\"\n",
    "\n",
    "response = requests.get(url)\n",
    "data = response.json().get('result')\n",
    "#ead the data into a dataframe where data in csv format\n",
    "# Convert the CSV string to a Pandas DataFrame\n",
    "df = pd.read_csv(io.StringIO(data))\n",
    "\n",
    "print(df.head(5))   \n",
    "print(df.info())\n",
    "\n",
    "\n",
    "\n",
    "\n",
    "\n"
   ]
  },
  {
   "cell_type": "code",
   "execution_count": 96,
   "metadata": {},
   "outputs": [
    {
     "name": "stdout",
     "output_type": "stream",
     "text": [
      "            Statistic Label  Year Persons Engaged    UNIT    VALUE\n",
      "0  Construction Enterprises  2019           0 - 9  Number  56935.0\n",
      "1  Construction Enterprises  2019         10 - 49  Number   2007.0\n",
      "2  Construction Enterprises  2019        50 - 249  Number    208.0\n",
      "3  Construction Enterprises  2019    250 and over  Number     25.0\n",
      "4  Construction Enterprises  2020           0 - 9  Number  60553.0\n",
      "<class 'pandas.core.frame.DataFrame'>\n",
      "RangeIndex: 352 entries, 0 to 351\n",
      "Data columns (total 5 columns):\n",
      " #   Column           Non-Null Count  Dtype  \n",
      "---  ------           --------------  -----  \n",
      " 0   Statistic Label  352 non-null    object \n",
      " 1   Year             352 non-null    int64  \n",
      " 2   Persons Engaged  352 non-null    object \n",
      " 3   UNIT             352 non-null    object \n",
      " 4   VALUE            104 non-null    float64\n",
      "dtypes: float64(1), int64(1), object(3)\n",
      "memory usage: 13.9+ KB\n",
      "None\n",
      "                      Statistic Label  Year Persons Engaged           UNIT  \\\n",
      "347  Gross value added at factor cost  2019    250 and over  Euro Thousand   \n",
      "348  Gross value added at factor cost  2020           0 - 9  Euro Thousand   \n",
      "349  Gross value added at factor cost  2020         10 - 49  Euro Thousand   \n",
      "350  Gross value added at factor cost  2020        50 - 249  Euro Thousand   \n",
      "351  Gross value added at factor cost  2020    250 and over  Euro Thousand   \n",
      "\n",
      "         VALUE  \n",
      "347  1458700.0  \n",
      "348  3842481.0  \n",
      "349  1906387.0  \n",
      "350   996725.0  \n",
      "351  1284711.0  \n"
     ]
    }
   ],
   "source": [
    "#BAA15 - Persons Engaged \n",
    "\n",
    "\n",
    "url = \"https://ws.cso.ie/public/api.jsonrpc?data=%7B%22jsonrpc%22:%222.0%22,%22method%22:%22PxStat.Data.Cube_API.ReadDataset%22,%22params%22:%7B%22class%22:%22query%22,%22id%22:%5B%5D,%22dimension%22:%7B%7D,%22extension%22:%7B%22pivot%22:null,%22codes%22:false,%22language%22:%7B%22code%22:%22en%22%7D,%22format%22:%7B%22type%22:%22CSV%22,%22version%22:%221.0%22%7D,%22matrix%22:%22BAA15%22%7D,%22version%22:%222.0%22%7D%7D\"\n",
    "\n",
    "response = requests.get(url)\n",
    "\n",
    "data = response.json().get('result')\n",
    "\n",
    "#ead the data into a dataframe where data in csv format\n",
    "# Convert the CSV string to a Pandas DataFrame\n",
    "personsEngaged_df = pd.read_csv(io.StringIO(data))\n",
    "print(personsEngaged_df.head(5))\n",
    "print(personsEngaged_df.info()) \n",
    "\n",
    "print(personsEngaged_df.tail(5))\n"
   ]
  },
  {
   "cell_type": "code",
   "execution_count": 97,
   "metadata": {},
   "outputs": [
    {
     "name": "stdout",
     "output_type": "stream",
     "text": [
      "                                     Statistic Label  Year  \\\n",
      "0  Value of Production Index in Building and Cons...  2019   \n",
      "1  Value of Production Index in Building and Cons...  2019   \n",
      "2  Value of Production Index in Building and Cons...  2019   \n",
      "3  Value of Production Index in Building and Cons...  2019   \n",
      "4  Value of Production Index in Building and Cons...  2019   \n",
      "\n",
      "        Type of Building and Construction           UNIT       VALUE  \n",
      "0           All building and construction  Base 2015=100  156.624674  \n",
      "1  Building (excluding civil engineering)  Base 2015=100  164.187276  \n",
      "2                    Residential building  Base 2015=100  174.131575  \n",
      "3                Non-residential building  Base 2015=100  162.646610  \n",
      "4                       Civil engineering  Base 2015=100  122.172820  \n",
      "<class 'pandas.core.frame.DataFrame'>\n",
      "RangeIndex: 40 entries, 0 to 39\n",
      "Data columns (total 5 columns):\n",
      " #   Column                             Non-Null Count  Dtype  \n",
      "---  ------                             --------------  -----  \n",
      " 0   Statistic Label                    40 non-null     object \n",
      " 1   Year                               40 non-null     int64  \n",
      " 2   Type of Building and Construction  40 non-null     object \n",
      " 3   UNIT                               40 non-null     object \n",
      " 4   VALUE                              40 non-null     float64\n",
      "dtypes: float64(1), int64(1), object(3)\n",
      "memory usage: 1.7+ KB\n",
      "None\n",
      "                                      Statistic Label  Year  \\\n",
      "35  Volume of Production Index in Building and Con...  2020   \n",
      "36  Volume of Production Index in Building and Con...  2020   \n",
      "37  Volume of Production Index in Building and Con...  2020   \n",
      "38  Volume of Production Index in Building and Con...  2020   \n",
      "39  Volume of Production Index in Building and Con...  2020   \n",
      "\n",
      "         Type of Building and Construction           UNIT       VALUE  \n",
      "35           All building and construction  Base 2015=100  131.846847  \n",
      "36  Building (excluding civil engineering)  Base 2015=100  139.299295  \n",
      "37                    Residential building  Base 2015=100  125.842640  \n",
      "38                Non-residential building  Base 2015=100  141.400966  \n",
      "39                       Civil engineering  Base 2015=100   96.075955  \n"
     ]
    }
   ],
   "source": [
    "#BEA04 - Indices of Total Production in Building and Construction Sector (Base 2015=100)\n",
    "\n",
    "url = \"https://ws.cso.ie/public/api.jsonrpc?data=%7B%22jsonrpc%22:%222.0%22,%22method%22:%22PxStat.Data.Cube_API.ReadDataset%22,%22params%22:%7B%22class%22:%22query%22,%22id%22:%5B%22TLIST(A1)%22%5D,%22dimension%22:%7B%22TLIST(A1)%22:%7B%22category%22:%7B%22index%22:%5B%222020%22,%222019%22%5D%7D%7D%7D,%22extension%22:%7B%22pivot%22:null,%22codes%22:false,%22language%22:%7B%22code%22:%22en%22%7D,%22format%22:%7B%22type%22:%22CSV%22,%22version%22:%221.0%22%7D,%22matrix%22:%22BEA04%22%7D,%22version%22:%222.0%22%7D%7D\"\n",
    "\n",
    "response = requests.get(url)\n",
    "\n",
    "data = response.json().get('result')\n",
    "\n",
    "#ead the data into a dataframe where data in csv format\n",
    "# Convert the CSV string to a Pandas DataFrame\n",
    "indicesOfTotalProduction_df = pd.read_csv(io.StringIO(data))    \n",
    "\n",
    "print(indicesOfTotalProduction_df.head(5))\n",
    "print(indicesOfTotalProduction_df.info())\n",
    "print(indicesOfTotalProduction_df.tail(5))"
   ]
  }
 ],
 "metadata": {
  "kernelspec": {
   "display_name": "Python 3 (ipykernel)",
   "language": "python",
   "name": "python3"
  },
  "language_info": {
   "codemirror_mode": {
    "name": "ipython",
    "version": 3
   },
   "file_extension": ".py",
   "mimetype": "text/x-python",
   "name": "python",
   "nbconvert_exporter": "python",
   "pygments_lexer": "ipython3",
   "version": "3.9.13"
  },
  "orig_nbformat": 4
 },
 "nbformat": 4,
 "nbformat_minor": 2
}
